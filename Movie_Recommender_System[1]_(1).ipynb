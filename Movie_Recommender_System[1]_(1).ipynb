{
  "cells": [
    {
      "cell_type": "markdown",
      "metadata": {
        "id": "436LPLxhPD-d"
      },
      "source": [
        "# Import libraries"
      ]
    },
    {
      "cell_type": "code",
      "execution_count": null,
      "metadata": {
        "colab": {
          "base_uri": "https://localhost:8080/"
        },
        "id": "hMfktnrnPD-f",
        "outputId": "17837484-987f-4053-b931-ec1ad2bc8ad2"
      },
      "outputs": [
        {
          "output_type": "stream",
          "name": "stdout",
          "text": [
            "Collecting pyspark\n",
            "  Downloading pyspark-3.5.0.tar.gz (316.9 MB)\n",
            "\u001b[2K     \u001b[90m━━━━━━━━━━━━━━━━━━━━━━━━━━━━━━━━━━━━━━━━\u001b[0m \u001b[32m316.9/316.9 MB\u001b[0m \u001b[31m2.6 MB/s\u001b[0m eta \u001b[36m0:00:00\u001b[0m\n",
            "\u001b[?25h  Preparing metadata (setup.py) ... \u001b[?25l\u001b[?25hdone\n",
            "Requirement already satisfied: py4j==0.10.9.7 in /usr/local/lib/python3.10/dist-packages (from pyspark) (0.10.9.7)\n",
            "Building wheels for collected packages: pyspark\n",
            "  Building wheel for pyspark (setup.py) ... \u001b[?25l\u001b[?25hdone\n",
            "  Created wheel for pyspark: filename=pyspark-3.5.0-py2.py3-none-any.whl size=317425345 sha256=f8ff6baf15fa6350281c12efafaa9313d9f1e3c11db0e2405a0f139df0bbbb39\n",
            "  Stored in directory: /root/.cache/pip/wheels/41/4e/10/c2cf2467f71c678cfc8a6b9ac9241e5e44a01940da8fbb17fc\n",
            "Successfully built pyspark\n",
            "Installing collected packages: pyspark\n",
            "Successfully installed pyspark-3.5.0\n",
            "Collecting apache-beam\n",
            "  Downloading apache_beam-2.53.0-cp310-cp310-manylinux_2_17_x86_64.manylinux2014_x86_64.whl (14.8 MB)\n",
            "\u001b[2K     \u001b[90m━━━━━━━━━━━━━━━━━━━━━━━━━━━━━━━━━━━━━━━━\u001b[0m \u001b[32m14.8/14.8 MB\u001b[0m \u001b[31m39.2 MB/s\u001b[0m eta \u001b[36m0:00:00\u001b[0m\n",
            "\u001b[?25hCollecting crcmod<2.0,>=1.7 (from apache-beam)\n",
            "  Downloading crcmod-1.7.tar.gz (89 kB)\n",
            "\u001b[2K     \u001b[90m━━━━━━━━━━━━━━━━━━━━━━━━━━━━━━━━━━━━━━━━\u001b[0m \u001b[32m89.7/89.7 kB\u001b[0m \u001b[31m11.8 MB/s\u001b[0m eta \u001b[36m0:00:00\u001b[0m\n",
            "\u001b[?25h  Preparing metadata (setup.py) ... \u001b[?25l\u001b[?25hdone\n",
            "Collecting orjson<4,>=3.9.7 (from apache-beam)\n",
            "  Downloading orjson-3.9.12-cp310-cp310-manylinux_2_17_x86_64.manylinux2014_x86_64.whl (139 kB)\n",
            "\u001b[2K     \u001b[90m━━━━━━━━━━━━━━━━━━━━━━━━━━━━━━━━━━━━━━━━\u001b[0m \u001b[32m139.8/139.8 kB\u001b[0m \u001b[31m17.7 MB/s\u001b[0m eta \u001b[36m0:00:00\u001b[0m\n",
            "\u001b[?25hCollecting dill<0.3.2,>=0.3.1.1 (from apache-beam)\n",
            "  Downloading dill-0.3.1.1.tar.gz (151 kB)\n",
            "\u001b[2K     \u001b[90m━━━━━━━━━━━━━━━━━━━━━━━━━━━━━━━━━━━━━━━━\u001b[0m \u001b[32m152.0/152.0 kB\u001b[0m \u001b[31m20.3 MB/s\u001b[0m eta \u001b[36m0:00:00\u001b[0m\n",
            "\u001b[?25h  Preparing metadata (setup.py) ... \u001b[?25l\u001b[?25hdone\n",
            "Requirement already satisfied: cloudpickle~=2.2.1 in /usr/local/lib/python3.10/dist-packages (from apache-beam) (2.2.1)\n",
            "Collecting fastavro<2,>=0.23.6 (from apache-beam)\n",
            "  Downloading fastavro-1.9.3-cp310-cp310-manylinux_2_17_x86_64.manylinux2014_x86_64.whl (3.1 MB)\n",
            "\u001b[2K     \u001b[90m━━━━━━━━━━━━━━━━━━━━━━━━━━━━━━━━━━━━━━━━\u001b[0m \u001b[32m3.1/3.1 MB\u001b[0m \u001b[31m78.0 MB/s\u001b[0m eta \u001b[36m0:00:00\u001b[0m\n",
            "\u001b[?25hCollecting fasteners<1.0,>=0.3 (from apache-beam)\n",
            "  Downloading fasteners-0.19-py3-none-any.whl (18 kB)\n",
            "Requirement already satisfied: grpcio!=1.48.0,<2,>=1.33.1 in /usr/local/lib/python3.10/dist-packages (from apache-beam) (1.60.0)\n",
            "Collecting hdfs<3.0.0,>=2.1.0 (from apache-beam)\n",
            "  Downloading hdfs-2.7.3.tar.gz (43 kB)\n",
            "\u001b[2K     \u001b[90m━━━━━━━━━━━━━━━━━━━━━━━━━━━━━━━━━━━━━━━━\u001b[0m \u001b[32m43.5/43.5 kB\u001b[0m \u001b[31m5.7 MB/s\u001b[0m eta \u001b[36m0:00:00\u001b[0m\n",
            "\u001b[?25h  Preparing metadata (setup.py) ... \u001b[?25l\u001b[?25hdone\n",
            "Requirement already satisfied: httplib2<0.23.0,>=0.8 in /usr/local/lib/python3.10/dist-packages (from apache-beam) (0.22.0)\n",
            "Collecting js2py<1,>=0.74 (from apache-beam)\n",
            "  Downloading Js2Py-0.74-py3-none-any.whl (1.0 MB)\n",
            "\u001b[2K     \u001b[90m━━━━━━━━━━━━━━━━━━━━━━━━━━━━━━━━━━━━━━━━\u001b[0m \u001b[32m1.0/1.0 MB\u001b[0m \u001b[31m62.9 MB/s\u001b[0m eta \u001b[36m0:00:00\u001b[0m\n",
            "\u001b[?25hRequirement already satisfied: jsonschema<5.0.0,>=4.0.0 in /usr/local/lib/python3.10/dist-packages (from apache-beam) (4.19.2)\n",
            "Requirement already satisfied: jsonpickle<4.0.0,>=3.0.0 in /usr/local/lib/python3.10/dist-packages (from apache-beam) (3.0.2)\n",
            "Requirement already satisfied: numpy<1.25.0,>=1.14.3 in /usr/local/lib/python3.10/dist-packages (from apache-beam) (1.23.5)\n",
            "Collecting objsize<0.7.0,>=0.6.1 (from apache-beam)\n",
            "  Downloading objsize-0.6.1-py3-none-any.whl (9.3 kB)\n",
            "Requirement already satisfied: packaging>=22.0 in /usr/local/lib/python3.10/dist-packages (from apache-beam) (23.2)\n",
            "Collecting pymongo<5.0.0,>=3.8.0 (from apache-beam)\n",
            "  Downloading pymongo-4.6.1-cp310-cp310-manylinux_2_17_x86_64.manylinux2014_x86_64.whl (677 kB)\n",
            "\u001b[2K     \u001b[90m━━━━━━━━━━━━━━━━━━━━━━━━━━━━━━━━━━━━━━━━\u001b[0m \u001b[32m677.1/677.1 kB\u001b[0m \u001b[31m47.9 MB/s\u001b[0m eta \u001b[36m0:00:00\u001b[0m\n",
            "\u001b[?25hRequirement already satisfied: proto-plus<2,>=1.7.1 in /usr/local/lib/python3.10/dist-packages (from apache-beam) (1.23.0)\n",
            "Requirement already satisfied: protobuf!=4.0.*,!=4.21.*,!=4.22.0,!=4.23.*,!=4.24.*,<4.26.0,>=3.20.3 in /usr/local/lib/python3.10/dist-packages (from apache-beam) (3.20.3)\n",
            "Requirement already satisfied: pydot<2,>=1.2.0 in /usr/local/lib/python3.10/dist-packages (from apache-beam) (1.4.2)\n",
            "Requirement already satisfied: python-dateutil<3,>=2.8.0 in /usr/local/lib/python3.10/dist-packages (from apache-beam) (2.8.2)\n",
            "Requirement already satisfied: pytz>=2018.3 in /usr/local/lib/python3.10/dist-packages (from apache-beam) (2023.3.post1)\n",
            "Requirement already satisfied: regex>=2020.6.8 in /usr/local/lib/python3.10/dist-packages (from apache-beam) (2023.6.3)\n",
            "Requirement already satisfied: requests<3.0.0,>=2.24.0 in /usr/local/lib/python3.10/dist-packages (from apache-beam) (2.31.0)\n",
            "Requirement already satisfied: typing-extensions>=3.7.0 in /usr/local/lib/python3.10/dist-packages (from apache-beam) (4.5.0)\n",
            "Collecting zstandard<1,>=0.18.0 (from apache-beam)\n",
            "  Downloading zstandard-0.22.0-cp310-cp310-manylinux_2_17_x86_64.manylinux2014_x86_64.whl (5.4 MB)\n",
            "\u001b[2K     \u001b[90m━━━━━━━━━━━━━━━━━━━━━━━━━━━━━━━━━━━━━━━━\u001b[0m \u001b[32m5.4/5.4 MB\u001b[0m \u001b[31m37.5 MB/s\u001b[0m eta \u001b[36m0:00:00\u001b[0m\n",
            "\u001b[?25hRequirement already satisfied: pyarrow<15.0.0,>=3.0.0 in /usr/local/lib/python3.10/dist-packages (from apache-beam) (10.0.1)\n",
            "Requirement already satisfied: pyarrow-hotfix<1 in /usr/local/lib/python3.10/dist-packages (from apache-beam) (0.6)\n",
            "Collecting docopt (from hdfs<3.0.0,>=2.1.0->apache-beam)\n",
            "  Downloading docopt-0.6.2.tar.gz (25 kB)\n",
            "  Preparing metadata (setup.py) ... \u001b[?25l\u001b[?25hdone\n",
            "Requirement already satisfied: six>=1.9.0 in /usr/local/lib/python3.10/dist-packages (from hdfs<3.0.0,>=2.1.0->apache-beam) (1.16.0)\n",
            "Requirement already satisfied: pyparsing!=3.0.0,!=3.0.1,!=3.0.2,!=3.0.3,<4,>=2.4.2 in /usr/local/lib/python3.10/dist-packages (from httplib2<0.23.0,>=0.8->apache-beam) (3.1.1)\n",
            "Requirement already satisfied: tzlocal>=1.2 in /usr/local/lib/python3.10/dist-packages (from js2py<1,>=0.74->apache-beam) (5.2)\n",
            "Collecting pyjsparser>=2.5.1 (from js2py<1,>=0.74->apache-beam)\n",
            "  Downloading pyjsparser-2.7.1.tar.gz (24 kB)\n",
            "  Preparing metadata (setup.py) ... \u001b[?25l\u001b[?25hdone\n",
            "Requirement already satisfied: attrs>=22.2.0 in /usr/local/lib/python3.10/dist-packages (from jsonschema<5.0.0,>=4.0.0->apache-beam) (23.2.0)\n",
            "Requirement already satisfied: jsonschema-specifications>=2023.03.6 in /usr/local/lib/python3.10/dist-packages (from jsonschema<5.0.0,>=4.0.0->apache-beam) (2023.12.1)\n",
            "Requirement already satisfied: referencing>=0.28.4 in /usr/local/lib/python3.10/dist-packages (from jsonschema<5.0.0,>=4.0.0->apache-beam) (0.32.1)\n",
            "Requirement already satisfied: rpds-py>=0.7.1 in /usr/local/lib/python3.10/dist-packages (from jsonschema<5.0.0,>=4.0.0->apache-beam) (0.16.2)\n",
            "Collecting dnspython<3.0.0,>=1.16.0 (from pymongo<5.0.0,>=3.8.0->apache-beam)\n",
            "  Downloading dnspython-2.4.2-py3-none-any.whl (300 kB)\n",
            "\u001b[2K     \u001b[90m━━━━━━━━━━━━━━━━━━━━━━━━━━━━━━━━━━━━━━━━\u001b[0m \u001b[32m300.4/300.4 kB\u001b[0m \u001b[31m29.6 MB/s\u001b[0m eta \u001b[36m0:00:00\u001b[0m\n",
            "\u001b[?25hRequirement already satisfied: charset-normalizer<4,>=2 in /usr/local/lib/python3.10/dist-packages (from requests<3.0.0,>=2.24.0->apache-beam) (3.3.2)\n",
            "Requirement already satisfied: idna<4,>=2.5 in /usr/local/lib/python3.10/dist-packages (from requests<3.0.0,>=2.24.0->apache-beam) (3.6)\n",
            "Requirement already satisfied: urllib3<3,>=1.21.1 in /usr/local/lib/python3.10/dist-packages (from requests<3.0.0,>=2.24.0->apache-beam) (2.0.7)\n",
            "Requirement already satisfied: certifi>=2017.4.17 in /usr/local/lib/python3.10/dist-packages (from requests<3.0.0,>=2.24.0->apache-beam) (2023.11.17)\n",
            "Building wheels for collected packages: crcmod, dill, hdfs, pyjsparser, docopt\n",
            "  Building wheel for crcmod (setup.py) ... \u001b[?25l\u001b[?25hdone\n",
            "  Created wheel for crcmod: filename=crcmod-1.7-cp310-cp310-linux_x86_64.whl size=31406 sha256=5b06def706a298946c8e09e5e8690ad2dd5151d9e320ba12f1b8779c48b10b5a\n",
            "  Stored in directory: /root/.cache/pip/wheels/85/4c/07/72215c529bd59d67e3dac29711d7aba1b692f543c808ba9e86\n",
            "  Building wheel for dill (setup.py) ... \u001b[?25l\u001b[?25hdone\n",
            "  Created wheel for dill: filename=dill-0.3.1.1-py3-none-any.whl size=78540 sha256=8e911fd2006c38e8444561f2b72852c56da6ec2b0301232a54c5f6b886f70cca\n",
            "  Stored in directory: /root/.cache/pip/wheels/ea/e2/86/64980d90e297e7bf2ce588c2b96e818f5399c515c4bb8a7e4f\n",
            "  Building wheel for hdfs (setup.py) ... \u001b[?25l\u001b[?25hdone\n",
            "  Created wheel for hdfs: filename=hdfs-2.7.3-py3-none-any.whl size=34325 sha256=656804e9eb3de13e17543cf315b9510fcab9445653711bb744357d1ce19fbe93\n",
            "  Stored in directory: /root/.cache/pip/wheels/e5/8d/b6/99c1c0a3ac5788c866b0ecd3f48b0134a5910e6ed26011800b\n",
            "  Building wheel for pyjsparser (setup.py) ... \u001b[?25l\u001b[?25hdone\n",
            "  Created wheel for pyjsparser: filename=pyjsparser-2.7.1-py3-none-any.whl size=25984 sha256=7d287d3a1648a1e2172edc4ff202f432fd8f46709906a063d2d1869c3997e3f7\n",
            "  Stored in directory: /root/.cache/pip/wheels/5e/81/26/5956478df303e2bf5a85a5df595bb307bd25948a4bab69f7c7\n",
            "  Building wheel for docopt (setup.py) ... \u001b[?25l\u001b[?25hdone\n",
            "  Created wheel for docopt: filename=docopt-0.6.2-py2.py3-none-any.whl size=13706 sha256=46e2b3e14a44d1bfeb5bcf660ff61252ac3ddcfb3ac21302337b056b5d745746\n",
            "  Stored in directory: /root/.cache/pip/wheels/fc/ab/d4/5da2067ac95b36618c629a5f93f809425700506f72c9732fac\n",
            "Successfully built crcmod dill hdfs pyjsparser docopt\n",
            "Installing collected packages: pyjsparser, docopt, crcmod, zstandard, orjson, objsize, js2py, fasteners, fastavro, dnspython, dill, pymongo, hdfs, apache-beam\n",
            "Successfully installed apache-beam-2.53.0 crcmod-1.7 dill-0.3.1.1 dnspython-2.4.2 docopt-0.6.2 fastavro-1.9.3 fasteners-0.19 hdfs-2.7.3 js2py-0.74 objsize-0.6.1 orjson-3.9.12 pyjsparser-2.7.1 pymongo-4.6.1 zstandard-0.22.0\n"
          ]
        }
      ],
      "source": [
        "!pip install pyspark\n",
        "!pip install apache-beam"
      ]
    },
    {
      "cell_type": "code",
      "execution_count": null,
      "metadata": {
        "id": "o_x5sksYPD-h"
      },
      "outputs": [],
      "source": [
        "from pyspark.sql import SparkSession\n",
        "spark = SparkSession.builder.appName(\"Recommender System\").config(\"spark.sql.crossJoin.enabled\",\"true\").getOrCreate()"
      ]
    },
    {
      "cell_type": "code",
      "execution_count": null,
      "metadata": {
        "id": "m-xJLSdbPD-h"
      },
      "outputs": [],
      "source": [
        "# import library ALS for collaborative filtering\n",
        "from pyspark.ml.recommendation import ALS\n",
        "#import library RegressionEvaluator for model evaluation\n",
        "from pyspark.ml.evaluation import RegressionEvaluator\n",
        "# import library VectorAssembler for feature vectorization\n",
        "from pyspark.ml.feature import VectorAssembler\n",
        "from pyspark.sql import functions as f\n",
        "import matplotlib.pyplot as plt\n",
        "import seaborn as sns\n"
      ]
    },
    {
      "cell_type": "markdown",
      "metadata": {
        "id": "iCrJ5qQIPD-h"
      },
      "source": [
        "# Load and verify data"
      ]
    },
    {
      "cell_type": "code",
      "execution_count": null,
      "metadata": {
        "id": "T4XUXi2nPD-h"
      },
      "outputs": [],
      "source": [
        "#Defining Schema for the DataFrame for movie ranting data\n",
        "from pyspark.sql.types import StringType, DoubleType, IntegerType, StructType, StructField\n",
        "schema = StructType([StructField('userId', IntegerType(), True),\n",
        "                     StructField('movieId', IntegerType(), True),\n",
        "                     StructField('rating', IntegerType(), True),\n",
        "                     StructField('timestamp', DoubleType(), True)])\n"
      ]
    },
    {
      "cell_type": "code",
      "execution_count": null,
      "metadata": {
        "id": "2ZfvpI3NPD-h"
      },
      "outputs": [],
      "source": [
        "data = spark.read.csv('ratings.dat',sep = '::', header = False, schema = schema)\n"
      ]
    },
    {
      "cell_type": "code",
      "execution_count": null,
      "metadata": {
        "colab": {
          "base_uri": "https://localhost:8080/"
        },
        "id": "kCIqwoioPD-i",
        "outputId": "fc7ea2d4-aa3c-4b6a-8995-fd2a89a130be"
      },
      "outputs": [
        {
          "output_type": "stream",
          "name": "stdout",
          "text": [
            "root\n",
            " |-- userId: integer (nullable = true)\n",
            " |-- movieId: integer (nullable = true)\n",
            " |-- rating: integer (nullable = true)\n",
            " |-- timestamp: double (nullable = true)\n",
            "\n"
          ]
        }
      ],
      "source": [
        "data.printSchema()"
      ]
    },
    {
      "cell_type": "code",
      "execution_count": null,
      "metadata": {
        "colab": {
          "base_uri": "https://localhost:8080/"
        },
        "id": "XUOO9Len6AYi",
        "outputId": "65bb817b-a37c-44c6-a255-2e81d559c22c"
      },
      "outputs": [
        {
          "output_type": "stream",
          "name": "stdout",
          "text": [
            "+-------------------------------------------------+---------------------------------------------------+-------------------------------------------------+-------------------------------------------------------+\n",
            "|count(CASE WHEN (userId IS NULL) THEN userId END)|count(CASE WHEN (movieId IS NULL) THEN movieId END)|count(CASE WHEN (rating IS NULL) THEN rating END)|count(CASE WHEN (timestamp IS NULL) THEN timestamp END)|\n",
            "+-------------------------------------------------+---------------------------------------------------+-------------------------------------------------+-------------------------------------------------------+\n",
            "|                                                0|                                                  0|                                                0|                                                      0|\n",
            "+-------------------------------------------------+---------------------------------------------------+-------------------------------------------------+-------------------------------------------------------+\n",
            "\n"
          ]
        }
      ],
      "source": [
        "# prompt: check for null values\n",
        "\n",
        "data.select([f.count(f.when(f.isnull(c), c)) for c in data.columns]).show()\n"
      ]
    },
    {
      "cell_type": "code",
      "execution_count": null,
      "metadata": {
        "colab": {
          "base_uri": "https://localhost:8080/"
        },
        "id": "mpm7O0iPPD-i",
        "outputId": "a93182c7-85e0-4cbf-aa0b-586e0624f234"
      },
      "outputs": [
        {
          "output_type": "execute_result",
          "data": {
            "text/plain": [
              "[Row(userId=1, movieId=1193, rating=5, timestamp=978300760.0),\n",
              " Row(userId=1, movieId=661, rating=3, timestamp=978302109.0),\n",
              " Row(userId=1, movieId=914, rating=3, timestamp=978301968.0)]"
            ]
          },
          "metadata": {},
          "execution_count": 8
        }
      ],
      "source": [
        "data.head(3)"
      ]
    },
    {
      "cell_type": "code",
      "execution_count": null,
      "metadata": {
        "colab": {
          "base_uri": "https://localhost:8080/"
        },
        "id": "72-MDpNTPD-i",
        "outputId": "0b4b906f-1b10-4933-bea1-868f0bc87d08"
      },
      "outputs": [
        {
          "output_type": "stream",
          "name": "stdout",
          "text": [
            "1\n",
            "1193\n",
            "5\n",
            "978300760.0\n"
          ]
        }
      ],
      "source": [
        "#Prints each item in the first row of the DataFrame.\n",
        "for item in data.head(1)[0]:\n",
        "    print(item)"
      ]
    },
    {
      "cell_type": "code",
      "execution_count": null,
      "metadata": {
        "colab": {
          "base_uri": "https://localhost:8080/"
        },
        "id": "qfh9ibbDPD-i",
        "outputId": "864e6eb5-d751-4c89-81ee-d4ef251cc3ae"
      },
      "outputs": [
        {
          "output_type": "execute_result",
          "data": {
            "text/plain": [
              "['userId', 'movieId', 'rating', 'timestamp']"
            ]
          },
          "metadata": {},
          "execution_count": 10
        }
      ],
      "source": [
        "#Returns the list of column names in the DataFrame.\n",
        "data.columns"
      ]
    },
    {
      "cell_type": "code",
      "execution_count": null,
      "metadata": {
        "colab": {
          "base_uri": "https://localhost:8080/"
        },
        "id": "AAWQMHsaPD-i",
        "outputId": "8be128b2-0ea8-4a1d-e6c7-05014614ba77"
      },
      "outputs": [
        {
          "output_type": "stream",
          "name": "stdout",
          "text": [
            "+-------+------------------+------------------+------------------+-------------------+\n",
            "|summary|            userId|           movieId|            rating|          timestamp|\n",
            "+-------+------------------+------------------+------------------+-------------------+\n",
            "|  count|             44715|             44715|             44715|              44715|\n",
            "|   mean|156.81252376160126|1863.3737224644974|3.6044056804204407|9.800126810664207E8|\n",
            "| stddev| 85.65955369961019| 1106.229221591832|1.1233107277687648|1.058981792624632E7|\n",
            "|    min|                 1|                 1|                 1|        9.7650374E7|\n",
            "|    max|               302|              3952|                 5|      1.046325855E9|\n",
            "+-------+------------------+------------------+------------------+-------------------+\n",
            "\n"
          ]
        }
      ],
      "source": [
        "data.describe().show()"
      ]
    },
    {
      "cell_type": "markdown",
      "metadata": {
        "id": "nVo8CoeYPD-j"
      },
      "source": [
        "# Train Test split"
      ]
    },
    {
      "cell_type": "code",
      "execution_count": null,
      "metadata": {
        "id": "tpvrq67SPD-j"
      },
      "outputs": [],
      "source": [
        "#Splitting Data into Training and Testing Sets\n",
        "#Randomly splits the data into training (70%) and testing (30%) sets\n",
        "train_data,test_data = data.randomSplit([0.7,0.3])"
      ]
    },
    {
      "cell_type": "code",
      "execution_count": null,
      "metadata": {
        "colab": {
          "base_uri": "https://localhost:8080/"
        },
        "id": "Rm7J62QzPD-j",
        "outputId": "7581e995-9962-4686-8165-3555b7077616"
      },
      "outputs": [
        {
          "output_type": "stream",
          "name": "stdout",
          "text": [
            "+-------+------------------+------------------+------------------+--------------------+\n",
            "|summary|            userId|           movieId|            rating|           timestamp|\n",
            "+-------+------------------+------------------+------------------+--------------------+\n",
            "|  count|             31187|             31187|             31187|               31187|\n",
            "|   mean|157.05447782729985|1865.1106550806426|3.6021419181069034|  9.79974738536249E8|\n",
            "| stddev| 85.77470127769769|1107.4696781512407|1.1213399231442032|1.0881119304586563E7|\n",
            "|    min|                 1|                 1|                 1|         9.7650374E7|\n",
            "|    max|               302|              3952|                 5|       1.045358834E9|\n",
            "+-------+------------------+------------------+------------------+--------------------+\n",
            "\n"
          ]
        }
      ],
      "source": [
        "train_data.describe().show()"
      ]
    },
    {
      "cell_type": "code",
      "execution_count": null,
      "metadata": {
        "colab": {
          "base_uri": "https://localhost:8080/"
        },
        "id": "G8XAaI5lPD-j",
        "outputId": "231a62b5-d159-447e-dced-19c803e89b9a"
      },
      "outputs": [
        {
          "output_type": "stream",
          "name": "stdout",
          "text": [
            "+-------+-----------------+------------------+------------------+-------------------+\n",
            "|summary|           userId|           movieId|            rating|          timestamp|\n",
            "+-------+-----------------+------------------+------------------+-------------------+\n",
            "|  count|            13528|             13528|             13528|              13528|\n",
            "|   mean|156.2547309284447|1859.3694559432288|3.6096244825547013|9.801001525099792E8|\n",
            "| stddev|85.39405750886117|1103.3946577669913|1.1278652641789502|  9885444.477854187|\n",
            "|    min|                1|                 1|                 1|       9.76503381E8|\n",
            "|    max|              302|              3952|                 5|      1.046325855E9|\n",
            "+-------+-----------------+------------------+------------------+-------------------+\n",
            "\n"
          ]
        }
      ],
      "source": [
        "test_data.describe().show()"
      ]
    },
    {
      "cell_type": "markdown",
      "metadata": {
        "id": "xtFJBdzBPD-j"
      },
      "source": [
        "# Build Model"
      ]
    },
    {
      "cell_type": "code",
      "execution_count": null,
      "metadata": {
        "id": "gQ4MBWL8PD-j"
      },
      "outputs": [],
      "source": [
        "#Initializes the ALS (Alternating Least Squares) collaborative filtering model with specified parameters.\n",
        "recommender = ALS(maxIter = 5, regParam = 0.01, userCol='userId', itemCol='movieId', ratingCol='rating')\n",
        "# recommender = ALS(maxIter = 5, regParam = 0.01, userCol='userId', itemCol='movieId', ratingCol='rating', coldStartStrategy=\"drop\")"
      ]
    },
    {
      "cell_type": "code",
      "source": [
        "train_data = train_data.fillna(0)\n"
      ],
      "metadata": {
        "id": "sekPYF2KMKjz"
      },
      "execution_count": null,
      "outputs": []
    },
    {
      "cell_type": "code",
      "source": [
        "train_data = train_data.dropna(subset=['movieId'])"
      ],
      "metadata": {
        "id": "AuU5Xq_BMNZg"
      },
      "execution_count": null,
      "outputs": []
    },
    {
      "cell_type": "markdown",
      "metadata": {
        "id": "W8wtdBAy8Uh8"
      },
      "source": [
        "ALS in regression"
      ]
    },
    {
      "cell_type": "code",
      "execution_count": null,
      "metadata": {
        "id": "GGmsCKzSPD-j"
      },
      "outputs": [],
      "source": [
        "model = recommender.fit(train_data)"
      ]
    },
    {
      "cell_type": "code",
      "execution_count": null,
      "metadata": {
        "id": "HIYtZdHzPD-j"
      },
      "outputs": [],
      "source": [
        "# Make predictions on the test data using the 'transform' method\n",
        "pred_data = model.transform(test_data)"
      ]
    },
    {
      "cell_type": "code",
      "source": [
        "from pyspark.sql.functions import col, expr\n",
        "# Set negative predictions to zero\n",
        "pred_data = pred_data.withColumn(\"prediction\", expr(\"CASE WHEN prediction < 0 THEN 0 ELSE prediction END\"))\n"
      ],
      "metadata": {
        "id": "spebT_NgQs-k"
      },
      "execution_count": null,
      "outputs": []
    },
    {
      "cell_type": "code",
      "execution_count": null,
      "metadata": {
        "colab": {
          "base_uri": "https://localhost:8080/"
        },
        "id": "R6maWUjv-ysQ",
        "outputId": "194edccd-3363-42c5-a86c-d838b8fc8c15"
      },
      "outputs": [
        {
          "output_type": "stream",
          "name": "stdout",
          "text": [
            "+------+-------+------+-------------+----------+\n",
            "|userId|movieId|rating|    timestamp|prediction|\n",
            "+------+-------+------+-------------+----------+\n",
            "|   148|   2142|     4| 9.79578765E8| 1.9322473|\n",
            "|   148|   2366|     5| 9.77333254E8| 5.0296926|\n",
            "|   137|   1580|     4|1.000867526E9|  4.056849|\n",
            "|   137|   1959|     5| 9.77373314E8| 4.4341836|\n",
            "|   137|   3175|     5| 9.77373226E8| 4.0564637|\n",
            "|   251|   1580|     4| 9.76715892E8|  3.363236|\n",
            "|    65|   1580|     5| 9.77888445E8|  4.824363|\n",
            "|    65|   3175|     3| 9.91368938E8| 4.9681196|\n",
            "|    53|   3175|     5| 9.77949217E8|  4.591555|\n",
            "|   155|   1580|     4| 9.77255028E8| 3.6751127|\n",
            "|   300|   2866|     5| 9.76506733E8|  4.906073|\n",
            "|    26|    463|     3| 9.78271588E8| 1.2333279|\n",
            "|    26|   1088|     3| 9.78271447E8| 1.2148736|\n",
            "|   271|   1645|     3| 9.99137907E8| 3.4480374|\n",
            "|   271|   2366|     5| 9.76636511E8| 3.6310306|\n",
            "|   223|   1580|     4| 9.76902475E8|  3.613393|\n",
            "|   285|   1580|     3|1.025213283E9| 3.5169933|\n",
            "|    22|    833|     2| 9.78154448E8|0.83196276|\n",
            "|    22|   2122|     3| 9.78137167E8| 0.7633866|\n",
            "|   157|    471|     3| 9.77249978E8|  3.387667|\n",
            "+------+-------+------+-------------+----------+\n",
            "only showing top 20 rows\n",
            "\n"
          ]
        }
      ],
      "source": [
        "pred_data.show()"
      ]
    },
    {
      "cell_type": "code",
      "execution_count": null,
      "metadata": {
        "colab": {
          "base_uri": "https://localhost:8080/"
        },
        "id": "j0iTT-SePD-k",
        "outputId": "8993246a-1257-474e-b509-42a5a131a971"
      },
      "outputs": [
        {
          "output_type": "stream",
          "name": "stdout",
          "text": [
            "Root-mean-square error = nan\n"
          ]
        }
      ],
      "source": [
        "# Assuming you have a regression model and 'pred_data' contains the predictions\n",
        "# 'rating' is the actual target variable, and 'prediction' is the predicted variable\n",
        "\n",
        "# Create a RegressionEvaluator object with RMSE as the metric\n",
        "evaluator = RegressionEvaluator(metricName='rmse', labelCol='rating', predictionCol='prediction')\n",
        "\n",
        "# Evaluate the model on the test data and print the RMSE\n",
        "print(\"Root-mean-square error = \" + str(evaluator.evaluate(pred_data)))\n"
      ]
    },
    {
      "cell_type": "code",
      "execution_count": null,
      "metadata": {
        "colab": {
          "base_uri": "https://localhost:8080/"
        },
        "id": "_LSBbXiujeSi",
        "outputId": "a276aaa2-f14d-4153-bdfd-01f478eaab0d"
      },
      "outputs": [
        {
          "output_type": "stream",
          "name": "stdout",
          "text": [
            "Root-mean-square error = nan\n"
          ]
        }
      ],
      "source": [
        "evaluator = RegressionEvaluator(metricName='mae',labelCol='rating',predictionCol='prediction')\n",
        "print(\"Root-mean-square error = \" + str(evaluator.evaluate(pred_data)))"
      ]
    },
    {
      "cell_type": "code",
      "execution_count": null,
      "metadata": {
        "id": "pAsv4jzePD-k"
      },
      "outputs": [],
      "source": [
        "# A NaN result is due to SPARK-14489 and because the model can't predict values for users for which there's no data.\n",
        "# A temporary workaround is to exclude rows with predicted NaN values or to replace them with a constant, for instance,\n",
        "# the general mean rating. However, to map to a real business problem, the data scientist, in collaboration with the\n",
        "# business owner, must define what happens if such an event occurs. For example, you can provide no recommendation for\n",
        "# a user until that user rates a few items. Alternatively, before user rates five items, you can use a user-based recommender\n",
        "# system that's based on the user's profile (that's another recommender system to develop).\n",
        "\n",
        "# Replace predicted NaN values with the average rating and evaluate the model:"
      ]
    },
    {
      "cell_type": "code",
      "execution_count": null,
      "metadata": {
        "colab": {
          "base_uri": "https://localhost:8080/"
        },
        "id": "qv4J7XAIPD-k",
        "outputId": "1a0102ed-babe-4280-814a-058044272ada"
      },
      "outputs": [
        {
          "output_type": "stream",
          "name": "stdout",
          "text": [
            "The average rating in the dataset is: 3.6044056804204407\n"
          ]
        }
      ],
      "source": [
        "# Calculate the average rating using the 'groupBy' and 'avg' functions\n",
        "avgRatings = data.select('rating').groupBy().avg().first()[0]\n",
        "# Print the result\n",
        "print ('The average rating in the dataset is: {}'.format(avgRatings))"
      ]
    },
    {
      "cell_type": "code",
      "execution_count": null,
      "metadata": {
        "colab": {
          "base_uri": "https://localhost:8080/"
        },
        "id": "3wnZkdSUPD-k",
        "outputId": "44e3cd7e-0ec0-4b8c-e8e0-48154fbba828"
      },
      "outputs": [
        {
          "output_type": "stream",
          "name": "stdout",
          "text": [
            "The root mean squared error for our model is: 1.2893445342109082\n"
          ]
        }
      ],
      "source": [
        "evaluator = RegressionEvaluator(metricName='rmse', labelCol='rating', predictionCol='prediction')\n",
        "print ('The root mean squared error for our model is: {}'.format(evaluator.evaluate(pred_data.na.fill(avgRatings))))"
      ]
    },
    {
      "cell_type": "code",
      "execution_count": null,
      "metadata": {
        "id": "ZfeHEk3jXmpU",
        "colab": {
          "base_uri": "https://localhost:8080/"
        },
        "outputId": "b1989631-fd46-4454-c67f-1d2190b04248"
      },
      "outputs": [
        {
          "output_type": "stream",
          "name": "stdout",
          "text": [
            "The mean absolute error for our model is: 0.998741232914523\n"
          ]
        }
      ],
      "source": [
        "# prompt: calculate mea in regression\n",
        "\n",
        "evaluator = RegressionEvaluator(metricName='mae', labelCol='rating', predictionCol='prediction')\n",
        "print('The mean absolute error for our model is: {}'.format(evaluator.evaluate(pred_data.na.fill(avgRatings))))\n"
      ]
    },
    {
      "cell_type": "code",
      "execution_count": null,
      "metadata": {
        "id": "7FtjoYPfPD-k"
      },
      "outputs": [],
      "source": [
        "# Now exclude predicted NaN values and evaluate the model:"
      ]
    },
    {
      "cell_type": "code",
      "execution_count": null,
      "metadata": {
        "colab": {
          "base_uri": "https://localhost:8080/"
        },
        "id": "t8kf9AdaPD-k",
        "outputId": "cb395f3f-074a-4f9a-cc1c-6e002a000d76"
      },
      "outputs": [
        {
          "output_type": "stream",
          "name": "stdout",
          "text": [
            "The root mean squared error for our model is: 1.2888992870914804\n"
          ]
        }
      ],
      "source": [
        "evaluator = RegressionEvaluator(metricName='rmse', labelCol='rating', predictionCol='prediction')\n",
        "print ('The root mean squared error for our model is: {}'.format(evaluator.evaluate(pred_data.na.drop())))"
      ]
    },
    {
      "cell_type": "code",
      "execution_count": null,
      "metadata": {
        "colab": {
          "base_uri": "https://localhost:8080/"
        },
        "id": "Kk_NPaXEQRg7",
        "outputId": "bf8653eb-a69d-4d63-c43d-ecaec10dcee8"
      },
      "outputs": [
        {
          "output_type": "stream",
          "name": "stdout",
          "text": [
            "The r2 score for our model is: -0.31366413913847824\n"
          ]
        }
      ],
      "source": [
        "# prompt: generate the r2 square\n",
        "\n",
        "evaluator = RegressionEvaluator(metricName='r2', labelCol='rating', predictionCol='prediction')\n",
        "print('The r2 score for our model is: {}'.format(evaluator.evaluate(pred_data.na.drop())))\n"
      ]
    },
    {
      "cell_type": "code",
      "execution_count": null,
      "metadata": {
        "colab": {
          "base_uri": "https://localhost:8080/"
        },
        "id": "d46nLh1DULY2",
        "outputId": "6f334323-e0a9-410b-faeb-fdedf22773b6"
      },
      "outputs": [
        {
          "output_type": "stream",
          "name": "stdout",
          "text": [
            "The mean absolute error for our model is: 0.9972914358351186\n"
          ]
        }
      ],
      "source": [
        "# prompt: calculate mae(mean absolute error) in regression\n",
        "\n",
        "evaluator = RegressionEvaluator(metricName='mae', labelCol='rating', predictionCol='prediction')\n",
        "print('The mean absolute error for our model is: {}'.format(evaluator.evaluate(pred_data.na.drop())))\n"
      ]
    },
    {
      "cell_type": "code",
      "execution_count": null,
      "metadata": {
        "colab": {
          "base_uri": "https://localhost:8080/",
          "height": 564
        },
        "id": "Worabp9fRZBh",
        "outputId": "781565dd-3594-4e61-9035-243b555e029e"
      },
      "outputs": [
        {
          "output_type": "display_data",
          "data": {
            "text/plain": [
              "<Figure size 1000x600 with 1 Axes>"
            ],
            "image/png": "[encoded data removed]"
          },
          "metadata": {}
        }
      ],
      "source": [
        "import numpy as np\n",
        "predictions_pandas = pred_data.toPandas()\n",
        "#predictions_pandas['prediction'] = np.clip(predictions_pandas['prediction'], 0, 5)\n",
        "plt.figure(figsize=(10, 6))\n",
        "sns.scatterplot(x='rating', y='prediction', data=predictions_pandas)\n",
        "plt.title('Actual vs Clipped Predicted Ratings')\n",
        "plt.xlabel('Actual Rating')\n",
        "plt.ylabel('Clipped Predicted Rating')\n",
        "plt.show()\n"
      ]
    },
    {
      "cell_type": "code",
      "source": [
        "#Histogram\n",
        "# Visualize the distribution of ratings in the dataset\n",
        "ratings_pandas = data.select('rating').toPandas()\n",
        "plt.figure(figsize=(10, 6))\n",
        "sns.histplot(ratings_pandas['rating'], bins=5, kde=False, color='skyblue')\n",
        "plt.title('Distribution of Ratings in the Dataset')\n",
        "plt.xlabel('Rating')\n",
        "plt.ylabel('Count')\n",
        "plt.show()"
      ],
      "metadata": {
        "colab": {
          "base_uri": "https://localhost:8080/",
          "height": 564
        },
        "id": "oxAVZTP1rMSB",
        "outputId": "4e812f6c-e9e1-4b6e-caaa-dcb6c08365f1"
      },
      "execution_count": null,
      "outputs": [
        {
          "output_type": "display_data",
          "data": {
            "text/plain": [
              "<Figure size 1000x600 with 1 Axes>"
            ],
            "image/png": "[encoded data removed]"
          },
          "metadata": {}
        }
      ]
    },
    {
      "cell_type": "code",
      "source": [
        "from pyspark.ml.pipeline import Pipeline\n",
        "from pyspark.ml.evaluation import RegressionEvaluator\n",
        "from pyspark.ml.regression import RandomForestRegressor\n",
        "# Non-Collaborative Filtering Model (Random Forest)\n",
        "vector_assembler_rf = VectorAssembler(inputCols=['userId'], outputCol='features')\n",
        "rf_regressor = RandomForestRegressor(featuresCol='features', labelCol='rating', numTrees=10)\n",
        "pipeline_rf = Pipeline(stages=[vector_assembler_rf, rf_regressor])\n",
        "model_rf = pipeline_rf.fit(data.fillna(0))"
      ],
      "metadata": {
        "id": "zHg_pJZxNbQE"
      },
      "execution_count": null,
      "outputs": []
    },
    {
      "cell_type": "code",
      "source": [
        "# Evaluate Non-Collaborative Filtering Model (Random Forest)\n",
        "predictions_rf = model_rf.transform(test_data)\n",
        "evaluator_rf = RegressionEvaluator(metricName='rmse', labelCol='rating', predictionCol='prediction')\n",
        "rmse_rf = evaluator_rf.evaluate(predictions_rf)\n",
        "print(f\"RMSE for Non-Collaborative Filtering Model (Random Forest): {rmse_rf}\")\n"
      ],
      "metadata": {
        "colab": {
          "base_uri": "https://localhost:8080/"
        },
        "id": "fZuFs19JN9gZ",
        "outputId": "471fbb62-46b8-4606-b218-9a0c862ceef1"
      },
      "execution_count": null,
      "outputs": [
        {
          "output_type": "stream",
          "name": "stdout",
          "text": [
            "RMSE for Non-Collaborative Filtering Model (Random Forest): 1.114288085875733\n"
          ]
        }
      ]
    },
    {
      "cell_type": "code",
      "source": [
        "import matplotlib.pyplot as plt\n",
        "import seaborn as sns\n",
        "\n",
        "# Visualize predictions for Non-Collaborative Filtering Model (Random Forest)\n",
        "predictions_rf_pandas = predictions_rf.toPandas()\n",
        "plt.figure(figsize=(10, 6))\n",
        "\n",
        "# Scatter plot\n",
        "sns.scatterplot(x='rating', y='prediction', data=predictions_rf_pandas, label='Predictions')\n",
        "\n",
        "# Mean line\n",
        "mean_rating = predictions_rf_pandas['rating'].mean()\n",
        "plt.axhline(y=mean_rating, color='r', linestyle='--', label='Mean Rating')\n",
        "\n",
        "# Median line\n",
        "median_rating = predictions_rf_pandas['rating'].median()\n",
        "plt.axhline(y=median_rating, color='g', linestyle='--', label='Median Rating')\n",
        "\n",
        "# Set title and labels\n",
        "plt.title('Random Forest Model: Actual vs Predicted Ratings')\n",
        "plt.xlabel('Actual Rating')\n",
        "plt.ylabel('Predicted Rating')\n",
        "\n",
        "# Show legend\n",
        "plt.legend()\n",
        "\n",
        "# Show the plot\n",
        "plt.show()\n"
      ],
      "metadata": {
        "colab": {
          "base_uri": "https://localhost:8080/",
          "height": 564
        },
        "id": "pr_aMVh3OHzK",
        "outputId": "7994434a-4206-4cd3-863f-a55c899bd7cc"
      },
      "execution_count": null,
      "outputs": [
        {
          "output_type": "display_data",
          "data": {
            "text/plain": [
              "<Figure size 1000x600 with 1 Axes>"
            ],
            "image/png": "[encoded data removed]"
          },
          "metadata": {}
        }
      ]
    },
    {
      "cell_type": "markdown",
      "metadata": {
        "id": "ZKjJ08m_PD-k"
      },
      "source": [
        "# Define Movie details\n",
        "\n",
        "\n"
      ]
    },
    {
      "cell_type": "code",
      "execution_count": null,
      "metadata": {
        "colab": {
          "base_uri": "https://localhost:8080/"
        },
        "id": "TShqSmBQPD-k",
        "outputId": "23a185d0-81b2-4237-92ec-443e68ec2624"
      },
      "outputs": [
        {
          "output_type": "stream",
          "name": "stdout",
          "text": [
            "root\n",
            " |-- movieId: integer (nullable = true)\n",
            " |-- title: string (nullable = true)\n",
            " |-- genres: string (nullable = true)\n",
            "\n"
          ]
        }
      ],
      "source": [
        "# Defining Schema for the Movie Details DataFrame\n",
        "schema = StructType([StructField('movieId', IntegerType(), True),\n",
        "                     StructField('title', StringType(), True),\n",
        "                     StructField('genres', StringType(), True)])\n",
        "movieDetails = spark.read.csv('movies.dat',sep = '::', header = False, schema = schema)\n",
        "# Printing the Schema of Movie Details DataFrame:\n",
        "movieDetails.printSchema()"
      ]
    },
    {
      "cell_type": "code",
      "execution_count": null,
      "metadata": {
        "colab": {
          "base_uri": "https://localhost:8080/"
        },
        "id": "yC4XpZGpPD-k",
        "outputId": "3875928f-3b0c-45f3-d7e3-90459d8352a9"
      },
      "outputs": [
        {
          "output_type": "execute_result",
          "data": {
            "text/plain": [
              "[Row(movieId=1, title='Toy Story (1995)', genres=\"Animation|Children's|Comedy\"),\n",
              " Row(movieId=2, title='Jumanji (1995)', genres=\"Adventure|Children's|Fantasy\"),\n",
              " Row(movieId=3, title='Grumpier Old Men (1995)', genres='Comedy|Romance')]"
            ]
          },
          "metadata": {},
          "execution_count": 76
        }
      ],
      "source": [
        "movieDetails.head(3)"
      ]
    },
    {
      "cell_type": "code",
      "execution_count": null,
      "metadata": {
        "colab": {
          "base_uri": "https://localhost:8080/"
        },
        "id": "sor0IHAIPD-k",
        "outputId": "08850df1-f860-4489-dae4-a0ec646259bb"
      },
      "outputs": [
        {
          "output_type": "stream",
          "name": "stdout",
          "text": [
            "root\n",
            " |-- UserID: integer (nullable = true)\n",
            " |-- Gender: string (nullable = true)\n",
            " |-- Age: integer (nullable = true)\n",
            " |-- Occupation: integer (nullable = true)\n",
            " |-- Zipcode: integer (nullable = true)\n",
            "\n"
          ]
        }
      ],
      "source": [
        "# Defining Schema for the User Details DataFrame:\n",
        "schema = StructType([StructField('UserID', IntegerType(), True),\n",
        "                     StructField('Gender', StringType(), True),\n",
        "                     StructField('Age', IntegerType(), True),\n",
        "                     StructField('Occupation', IntegerType(), True),\n",
        "                     StructField('Zipcode', IntegerType(), True)])\n",
        "occupation ={\n",
        "  0:  \"other\",\n",
        "  1:  \"academic/educator\",\n",
        "  2:  \"artist\",\n",
        "  3:  \"clerical/admin\",\n",
        "  4:  \"college/grad student\",\n",
        "  5:  \"customer service\",\n",
        "  6:  \"doctor/health care\",\n",
        "  7:  \"executive/managerial\",\n",
        "  8:  \"farmer\",\n",
        "  9:  \"homemaker\",\n",
        " 10:  \"K-12 student\",\n",
        " 11:  \"lawyer\",\n",
        " 12:  \"programmer\",\n",
        " 13:  \"retired\",\n",
        " 14:  \"sales/marketing\",\n",
        " 15:  \"scientist\",\n",
        " 16:  \"self-employed\",\n",
        " 17:  \"technician/engineer\",\n",
        " 18:  \"tradesman/craftsman\",\n",
        " 19:  \"unemployed\",\n",
        " 20:  \"writer\"\n",
        "\n",
        "}\n",
        "userDetails = spark.read.csv('users.dat',sep = '::', header = False, schema = schema)\n",
        "# Printing the Schema of User Details DataFrame:\n",
        "userDetails.printSchema()"
      ]
    },
    {
      "cell_type": "code",
      "execution_count": null,
      "metadata": {
        "colab": {
          "base_uri": "https://localhost:8080/"
        },
        "id": "cwmpSxCvPD-l",
        "outputId": "f22dcd96-e571-40b2-c9d2-c17e91754312"
      },
      "outputs": [
        {
          "output_type": "execute_result",
          "data": {
            "text/plain": [
              "[Row(UserID=1, Gender='F', Age=1, Occupation=10, Zipcode=48067),\n",
              " Row(UserID=2, Gender='M', Age=56, Occupation=16, Zipcode=70072),\n",
              " Row(UserID=3, Gender='M', Age=25, Occupation=15, Zipcode=55117)]"
            ]
          },
          "metadata": {},
          "execution_count": 78
        }
      ],
      "source": [
        "userDetails.head(3)"
      ]
    },
    {
      "cell_type": "code",
      "execution_count": null,
      "metadata": {
        "colab": {
          "base_uri": "https://localhost:8080/"
        },
        "id": "4yXafquBF8l6",
        "outputId": "0dee6c12-03b0-40ec-c1d8-b8136e2b2412"
      },
      "outputs": [
        {
          "output_type": "stream",
          "name": "stdout",
          "text": [
            "+-------------------------------------------------+-------------------------------------------------+-------------------------------------------+---------------------------------------------------------+---------------------------------------------------+\n",
            "|count(CASE WHEN (UserID IS NULL) THEN UserID END)|count(CASE WHEN (Gender IS NULL) THEN Gender END)|count(CASE WHEN (Age IS NULL) THEN Age END)|count(CASE WHEN (Occupation IS NULL) THEN Occupation END)|count(CASE WHEN (Zipcode IS NULL) THEN Zipcode END)|\n",
            "+-------------------------------------------------+-------------------------------------------------+-------------------------------------------+---------------------------------------------------------+---------------------------------------------------+\n",
            "|                                                0|                                                0|                                          0|                                                        0|                                                 66|\n",
            "+-------------------------------------------------+-------------------------------------------------+-------------------------------------------+---------------------------------------------------------+---------------------------------------------------+\n",
            "\n",
            "+---------------------------------------------------+-----------------------------------------------+-------------------------------------------------+\n",
            "|count(CASE WHEN (movieId IS NULL) THEN movieId END)|count(CASE WHEN (title IS NULL) THEN title END)|count(CASE WHEN (genres IS NULL) THEN genres END)|\n",
            "+---------------------------------------------------+-----------------------------------------------+-------------------------------------------------+\n",
            "|                                                  0|                                              0|                                                0|\n",
            "+---------------------------------------------------+-----------------------------------------------+-------------------------------------------------+\n",
            "\n"
          ]
        }
      ],
      "source": [
        "# prompt: calculate the null values in both userDetails and movieDetails\n",
        "\n",
        "userDetails.select([f.count(f.when(f.isnull(c), c)) for c in userDetails.columns]).show()\n",
        "\n",
        "movieDetails.select([f.count(f.when(f.isnull(c), c)) for c in movieDetails.columns]).show()\n"
      ]
    },
    {
      "cell_type": "code",
      "execution_count": null,
      "metadata": {
        "colab": {
          "base_uri": "https://localhost:8080/"
        },
        "id": "L06BuNUrPD-l",
        "outputId": "47a17d7b-294d-4ef4-8a02-b5a3c37be516"
      },
      "outputs": [
        {
          "output_type": "stream",
          "name": "stdout",
          "text": [
            "+------+--------------------+\n",
            "|userId|     recommendations|\n",
            "+------+--------------------+\n",
            "|     1|[{1858, 7.0269175...|\n",
            "|     2|[{242, 6.6238227}...|\n",
            "|     3|[{175, 8.507378},...|\n",
            "|     4|[{2176, 13.126937...|\n",
            "|     5|[{81, 6.035539}, ...|\n",
            "|     6|[{955, 7.1403246}...|\n",
            "|     7|[{724, 9.816499},...|\n",
            "|     8|[{3554, 7.797468}...|\n",
            "|     9|[{1554, 6.743209}...|\n",
            "|    10|[{2861, 7.0046377...|\n",
            "|    11|[{3019, 6.807482}...|\n",
            "|    12|[{2609, 8.489271}...|\n",
            "|    13|[{3554, 5.642074}...|\n",
            "|    14|[{2403, 12.242307...|\n",
            "|    15|[{2644, 6.361986}...|\n",
            "|    16|[{2861, 8.046223}...|\n",
            "|    17|[{3198, 5.746713}...|\n",
            "|    18|[{2644, 6.3391347...|\n",
            "|    19|[{2176, 6.5182347...|\n",
            "|    20|[{1955, 10.433276...|\n",
            "+------+--------------------+\n",
            "only showing top 20 rows\n",
            "\n"
          ]
        }
      ],
      "source": [
        "# Generate top 10 movie recommendations for each user\n",
        "# Using the recommendForAllUsers method of the trained ALS model to generate recommendations\n",
        "userRecs = model.recommendForAllUsers(10)\n",
        "userRecs.show()"
      ]
    },
    {
      "cell_type": "markdown",
      "metadata": {
        "id": "Bjy7v08Y8onn"
      },
      "source": [
        "Using Colabrative filtering to combine"
      ]
    },
    {
      "cell_type": "code",
      "execution_count": null,
      "metadata": {
        "colab": {
          "base_uri": "https://localhost:8080/"
        },
        "id": "TpeBqhMoPD-l",
        "outputId": "f0350143-55cd-4cf0-c1c5-bef3c4590341"
      },
      "outputs": [
        {
          "output_type": "stream",
          "name": "stdout",
          "text": [
            "+------+-----------------+\n",
            "|userId|              col|\n",
            "+------+-----------------+\n",
            "|     1|{1858, 7.0269175}|\n",
            "|     1|  {953, 6.933067}|\n",
            "|     1|{2019, 6.7472277}|\n",
            "|     1| {3469, 6.415483}|\n",
            "|     1|{2861, 6.4066143}|\n",
            "|     1|{3470, 6.3035064}|\n",
            "|     1|  {852, 6.262131}|\n",
            "|     1| {959, 6.2613506}|\n",
            "|     1| {2287, 6.151389}|\n",
            "|     1| {2108, 6.128372}|\n",
            "|     2| {242, 6.6238227}|\n",
            "|     2|{3182, 6.4797354}|\n",
            "|     2| {1699, 6.420671}|\n",
            "|     2|{3836, 6.3850145}|\n",
            "|     2|{1287, 6.3606815}|\n",
            "|     2| {1226, 6.233671}|\n",
            "|     2|{2116, 6.2120585}|\n",
            "|     2|{2176, 6.1940136}|\n",
            "|     2| {1231, 6.130916}|\n",
            "|     2| {1277, 6.115124}|\n",
            "+------+-----------------+\n",
            "only showing top 20 rows\n",
            "\n"
          ]
        }
      ],
      "source": [
        "# Using explode to transform the recommendations column into separate rows\n",
        "userRecsExplode = userRecs.select(userRecs.userId,f.explode(userRecs.recommendations)).orderBy(userRecs.userId)\n",
        "userRecsExplode.show()"
      ]
    },
    {
      "cell_type": "code",
      "execution_count": null,
      "metadata": {
        "colab": {
          "base_uri": "https://localhost:8080/"
        },
        "id": "Ec1KDrPiPD-l",
        "outputId": "023c8964-8e27-41fe-c6f7-7db990236090"
      },
      "outputs": [
        {
          "output_type": "stream",
          "name": "stdout",
          "text": [
            "+------+-------+--------------------+--------------------+\n",
            "|userId|movieId|               title|              genres|\n",
            "+------+-------+--------------------+--------------------+\n",
            "|   250|    464|  Hard Target (1993)|Action|Adventure|...|\n",
            "|   250|    480|Jurassic Park (1993)|Action|Adventure|...|\n",
            "|   250|   2858|American Beauty (...|        Comedy|Drama|\n",
            "|   250|   3078|Liberty Heights (...|               Drama|\n",
            "|   250|   3452|Romeo Must Die (2...|      Action|Romance|\n",
            "+------+-------+--------------------+--------------------+\n",
            "\n"
          ]
        }
      ],
      "source": [
        "# Generate top 10 movie recommendations for a specified set of users\n",
        "singleUser = test_data.filter(test_data.userId==250).select(['movieId','userId'])\n",
        "singleUser.join(movieDetails,singleUser.movieId==movieDetails.movieId,\"left\").select([singleUser.userId,singleUser.movieId,movieDetails.title,movieDetails.genres]).show()"
      ]
    },
    {
      "cell_type": "code",
      "execution_count": null,
      "metadata": {
        "colab": {
          "base_uri": "https://localhost:8080/"
        },
        "id": "VPK7NsbKPD-t",
        "outputId": "44ff0794-8598-4b2c-ed69-a692f3520563"
      },
      "outputs": [
        {
          "output_type": "stream",
          "name": "stdout",
          "text": [
            "+------+--------------------+\n",
            "|userId|     recommendations|\n",
            "+------+--------------------+\n",
            "|   250|[{3019, 10.496857...|\n",
            "+------+--------------------+\n",
            "\n"
          ]
        }
      ],
      "source": [
        "userSubsetRecs = model.recommendForUserSubset(singleUser, 10)\n",
        "userSubsetRecs.show()"
      ]
    },
    {
      "cell_type": "code",
      "execution_count": null,
      "metadata": {
        "colab": {
          "base_uri": "https://localhost:8080/"
        },
        "id": "ygB5ktcOPD-t",
        "outputId": "342cfe2b-891f-4dbc-be12-49ea0637ae46"
      },
      "outputs": [
        {
          "output_type": "stream",
          "name": "stdout",
          "text": [
            "+------+-----------------+\n",
            "|userId|              col|\n",
            "+------+-----------------+\n",
            "|   250|{3019, 10.496857}|\n",
            "|   250|  {3275, 9.41677}|\n",
            "|   250| {3783, 9.150944}|\n",
            "|   250|  {3424, 8.89164}|\n",
            "|   250|   {529, 8.70423}|\n",
            "|   250| {800, 8.5307865}|\n",
            "|   250| {1982, 8.525492}|\n",
            "|   250|{1756, 7.9304037}|\n",
            "|   250| {2018, 7.929111}|\n",
            "|   250|{1654, 7.8321934}|\n",
            "+------+-----------------+\n",
            "\n"
          ]
        }
      ],
      "source": [
        "userSubsetRecsExplode = userSubsetRecs.select(userSubsetRecs.userId,f.explode(userSubsetRecs.recommendations))\n",
        "userSubsetRecsExplode.show()"
      ]
    },
    {
      "cell_type": "code",
      "execution_count": null,
      "metadata": {
        "colab": {
          "base_uri": "https://localhost:8080/"
        },
        "id": "CQfVRFyUPD-t",
        "outputId": "f3410e5b-e8eb-481c-c0bd-126283a6898b"
      },
      "outputs": [
        {
          "output_type": "stream",
          "name": "stdout",
          "text": [
            "+-------+------+----------+\n",
            "|movieId|userId|prediction|\n",
            "+-------+------+----------+\n",
            "|   3078|   250|  6.697952|\n",
            "|   2858|   250| 5.2664495|\n",
            "|    480|   250|  3.789679|\n",
            "|    464|   250| 2.1467695|\n",
            "|   3452|   250| 1.8067666|\n",
            "+-------+------+----------+\n",
            "\n"
          ]
        }
      ],
      "source": [
        "recommendations = model.transform(singleUser)\n",
        "userRecommendations= recommendations.orderBy('prediction',ascending=False)\n",
        "userRecommendations.show()"
      ]
    },
    {
      "cell_type": "code",
      "execution_count": null,
      "metadata": {
        "colab": {
          "base_uri": "https://localhost:8080/"
        },
        "id": "jpfZ6Y45PD-u",
        "outputId": "462212f9-2a0a-4b40-84d4-a08a1953e720"
      },
      "outputs": [
        {
          "output_type": "stream",
          "name": "stdout",
          "text": [
            "+------+--------------------+--------------------+----------+\n",
            "|userId|               title|              genres|prediction|\n",
            "+------+--------------------+--------------------+----------+\n",
            "|   250|Romeo Must Die (2...|      Action|Romance| 1.8067666|\n",
            "|   250|American Beauty (...|        Comedy|Drama| 5.2664495|\n",
            "|   250|Jurassic Park (1993)|Action|Adventure|...|  3.789679|\n",
            "|   250|  Hard Target (1993)|Action|Adventure|...| 2.1467695|\n",
            "|   250|Liberty Heights (...|               Drama|  6.697952|\n",
            "+------+--------------------+--------------------+----------+\n",
            "\n"
          ]
        }
      ],
      "source": [
        "userRecommendations.join(movieDetails,userRecommendations.movieId==movieDetails.movieId,\"left\").select([userRecommendations.userId,movieDetails.title,movieDetails.genres,userRecommendations.prediction]).show()"
      ]
    },
    {
      "cell_type": "code",
      "execution_count": null,
      "metadata": {
        "colab": {
          "base_uri": "https://localhost:8080/"
        },
        "id": "ReTO9kMqPD-u",
        "outputId": "4ffe4b8f-8ddb-44d5-fa3a-1d7aae6ba25a"
      },
      "outputs": [
        {
          "output_type": "stream",
          "name": "stdout",
          "text": [
            "+-------+-----------+--------------------+------+\n",
            "|movieId|      title|              genres|userId|\n",
            "+-------+-----------+--------------------+------+\n",
            "|     34|Babe (1995)|Children's|Comedy...|    36|\n",
            "|     34|Babe (1995)|Children's|Comedy...|    44|\n",
            "|     34|Babe (1995)|Children's|Comedy...|    45|\n",
            "|     34|Babe (1995)|Children's|Comedy...|    51|\n",
            "|     34|Babe (1995)|Children's|Comedy...|    73|\n",
            "|     34|Babe (1995)|Children's|Comedy...|    75|\n",
            "|     34|Babe (1995)|Children's|Comedy...|    90|\n",
            "|     34|Babe (1995)|Children's|Comedy...|    92|\n",
            "|     34|Babe (1995)|Children's|Comedy...|   137|\n",
            "|     34|Babe (1995)|Children's|Comedy...|   148|\n",
            "|     34|Babe (1995)|Children's|Comedy...|   161|\n",
            "|     34|Babe (1995)|Children's|Comedy...|   175|\n",
            "|     34|Babe (1995)|Children's|Comedy...|   192|\n",
            "|     34|Babe (1995)|Children's|Comedy...|   193|\n",
            "|     34|Babe (1995)|Children's|Comedy...|   194|\n",
            "|     34|Babe (1995)|Children's|Comedy...|   204|\n",
            "|     34|Babe (1995)|Children's|Comedy...|   220|\n",
            "|     34|Babe (1995)|Children's|Comedy...|   225|\n",
            "|     34|Babe (1995)|Children's|Comedy...|   240|\n",
            "|     34|Babe (1995)|Children's|Comedy...|   246|\n",
            "+-------+-----------+--------------------+------+\n",
            "only showing top 20 rows\n",
            "\n"
          ]
        }
      ],
      "source": [
        "# Generate top 10 user recommendations for a specified set of movies\n",
        "singleMovie = test_data.filter(test_data.movieId==34).select(['movieId','userId'])\n",
        "singleMovie.join(movieDetails,singleMovie.movieId==movieDetails.movieId,\"left\").select([singleMovie.movieId,movieDetails.title,movieDetails.genres,singleMovie.userId]).show()"
      ]
    },
    {
      "cell_type": "code",
      "execution_count": null,
      "metadata": {
        "colab": {
          "base_uri": "https://localhost:8080/"
        },
        "id": "yFr6E7b_PD-u",
        "outputId": "c67d2fa0-661a-4860-94a2-753ff5f7bf25"
      },
      "outputs": [
        {
          "output_type": "stream",
          "name": "stdout",
          "text": [
            "+-------+-----------+--------------------+--------------------+\n",
            "|movieId|      title|              genres|     recommendations|\n",
            "+-------+-----------+--------------------+--------------------+\n",
            "|     34|Babe (1995)|Children's|Comedy...|[{144, 6.0316334}...|\n",
            "+-------+-----------+--------------------+--------------------+\n",
            "\n"
          ]
        }
      ],
      "source": [
        "movieSubSetRecs = model.recommendForItemSubset(singleMovie, 10)\n",
        "movieSubSetRecs.join(movieDetails,movieSubSetRecs.movieId==movieDetails.movieId,\"left\").select([movieSubSetRecs.movieId,movieDetails.title,movieDetails.genres,movieSubSetRecs.recommendations]).show()"
      ]
    },
    {
      "cell_type": "code",
      "execution_count": null,
      "metadata": {
        "colab": {
          "base_uri": "https://localhost:8080/"
        },
        "id": "gWoMn5c_PD-u",
        "outputId": "e79e89a4-59ab-42ec-b74f-b835625c79f6"
      },
      "outputs": [
        {
          "output_type": "stream",
          "name": "stdout",
          "text": [
            "+-------+-----------+--------------------+----------------+\n",
            "|movieId|      title|              genres|  recommendation|\n",
            "+-------+-----------+--------------------+----------------+\n",
            "|     34|Babe (1995)|Children's|Comedy...|{144, 6.0316334}|\n",
            "|     34|Babe (1995)|Children's|Comedy...| {292, 6.006903}|\n",
            "|     34|Babe (1995)|Children's|Comedy...|{128, 5.8326764}|\n",
            "|     34|Babe (1995)|Children's|Comedy...|{283, 5.6705747}|\n",
            "|     34|Babe (1995)|Children's|Comedy...| {120, 5.628803}|\n",
            "|     34|Babe (1995)|Children's|Comedy...| {16, 5.5959005}|\n",
            "|     34|Babe (1995)|Children's|Comedy...| {80, 5.5196805}|\n",
            "|     34|Babe (1995)|Children's|Comedy...| {184, 5.479142}|\n",
            "|     34|Babe (1995)|Children's|Comedy...| {266, 5.475329}|\n",
            "|     34|Babe (1995)|Children's|Comedy...|{135, 5.4684024}|\n",
            "+-------+-----------+--------------------+----------------+\n",
            "\n"
          ]
        }
      ],
      "source": [
        "movieSubSetRecsExplode = movieSubSetRecs.select(movieSubSetRecs.movieId,f.explode(movieSubSetRecs.recommendations))\n",
        "movieSubSetRecsExplode.join(movieDetails,movieSubSetRecsExplode.movieId==movieDetails.movieId,\"left\").select([movieSubSetRecsExplode.movieId,movieDetails.title,movieDetails.genres,movieSubSetRecsExplode.col.alias('recommendation')]).show()"
      ]
    },
    {
      "cell_type": "code",
      "execution_count": null,
      "metadata": {
        "colab": {
          "base_uri": "https://localhost:8080/"
        },
        "id": "-IS8xBt7In67",
        "outputId": "8c015384-7487-404a-af55-818435bbeb8c"
      },
      "outputs": [
        {
          "output_type": "stream",
          "name": "stdout",
          "text": [
            "+------+--------------------+--------------------+----------+\n",
            "|userId|               title|              genres|prediction|\n",
            "+------+--------------------+--------------------+----------+\n",
            "|     1|   Awakenings (1990)|               Drama| 4.7005258|\n",
            "|     1|          Big (1988)|      Comedy|Fantasy| 3.8124132|\n",
            "|     1|        Bambi (1942)|Animation|Children's|  3.584227|\n",
            "|     1| My Fair Lady (1964)|     Musical|Romance| 5.7263775|\n",
            "|     1|Christmas Story, ...|        Comedy|Drama|  4.003933|\n",
            "|     1|    Toy Story (1995)|Animation|Childre...| 4.8231034|\n",
            "|     1|Wizard of Oz, The...|Adventure|Childre...|  4.830664|\n",
            "|     1| Mary Poppins (1964)|Children's|Comedy...| 4.7933455|\n",
            "|     1|Sound of Music, T...|             Musical|  4.769859|\n",
            "|     2|Die Hard: With a ...|     Action|Thriller|   5.11145|\n",
            "|     1|Erin Brockovich (...|               Drama|  4.044266|\n",
            "|     1|      Ben-Hur (1959)|Action|Adventure|...| 4.7532244|\n",
            "|     1|         Gigi (1958)|             Musical| 3.2854478|\n",
            "|     2|   Get Shorty (1995)| Action|Comedy|Drama| 3.6363738|\n",
            "|     1|        Fargo (1996)|Crime|Drama|Thriller| 3.6247437|\n",
            "|     1|Sixth Sense, The ...|            Thriller| 4.4277415|\n",
            "|     1|     Hercules (1997)|Adventure|Animati...|  4.268351|\n",
            "|     1|One Flew Over the...|               Drama|  5.323921|\n",
            "|     1|Last Days of Disc...|               Drama| 1.6427834|\n",
            "|     1|Close Shave, A (1...|Animation|Comedy|...|   4.84415|\n",
            "+------+--------------------+--------------------+----------+\n",
            "only showing top 20 rows\n",
            "\n"
          ]
        }
      ],
      "source": [
        "# prompt: append recommendation column into dataset\n",
        "\n",
        "recommendations_movie = model.transform(test_data)\n",
        "recommendations_movie.join(movieDetails,recommendations_movie.movieId==movieDetails.movieId,\"left\").select([recommendations_movie.userId,movieDetails.title,movieDetails.genres,recommendations_movie.prediction]).show()\n"
      ]
    },
    {
      "cell_type": "code",
      "source": [
        "# prompt: plot histogram for userId and Prediction\n",
        "\n",
        "predictions = recommendations_movie.select('prediction')\n",
        "predictions_pandas = predictions.toPandas()\n",
        "plt.figure(figsize=(10, 6))\n",
        "sns.histplot(predictions_pandas['prediction'], bins=5, kde=False, color='skyblue')\n",
        "plt.title('Distribution of Predictions')\n",
        "plt.xlabel('Prediction')\n",
        "plt.ylabel('Count')\n",
        "plt.show()\n"
      ],
      "metadata": {
        "colab": {
          "base_uri": "https://localhost:8080/",
          "height": 564
        },
        "id": "QrBhv9xmSPtB",
        "outputId": "9803ed0e-aef5-4da8-9c1f-417b751ccff3"
      },
      "execution_count": null,
      "outputs": [
        {
          "output_type": "display_data",
          "data": {
            "text/plain": [
              "<Figure size 1000x600 with 1 Axes>"
            ],
            "image/png": "[encoded data removed]"
          },
          "metadata": {}
        }
      ]
    },
    {
      "cell_type": "code",
      "execution_count": null,
      "metadata": {
        "colab": {
          "base_uri": "https://localhost:8080/"
        },
        "id": "X5nIwcvSMj5n",
        "outputId": "8cb4dba6-a4db-447b-a608-f86333a4a40f"
      },
      "outputs": [
        {
          "output_type": "stream",
          "name": "stdout",
          "text": [
            "The mean absolute error for our model is: 0.9972914358351186\n"
          ]
        }
      ],
      "source": [
        "# prompt:  calculate mean absolute error for prediction in recommendations\n",
        "\n",
        "evaluator = RegressionEvaluator(metricName='mae', labelCol='rating', predictionCol='prediction')\n",
        "print('The mean absolute error for our model is: {}'.format(evaluator.evaluate(pred_data.na.drop())))\n"
      ]
    },
    {
      "cell_type": "code",
      "execution_count": null,
      "metadata": {
        "colab": {
          "base_uri": "https://localhost:8080/",
          "height": 81
        },
        "id": "PUh8iSiYaao_",
        "outputId": "8ab840d7-df0a-4a5a-f26a-fa8ddedefac4"
      },
      "outputs": [
        {
          "output_type": "execute_result",
          "data": {
            "text/plain": [
              "   userId  prediction\n",
              "0     250    3.941523"
            ],
            "text/html": [
              "\n",
              "  <div id=\"df-0301ab55-a754-4a31-9a2a-2ce1e2b7ea15\" class=\"colab-df-container\">\n",
              "    <div>\n",
              "<style scoped>\n",
              "    .dataframe tbody tr th:only-of-type {\n",
              "        vertical-align: middle;\n",
              "    }\n",
              "\n",
              "    .dataframe tbody tr th {\n",
              "        vertical-align: top;\n",
              "    }\n",
              "\n",
              "    .dataframe thead th {\n",
              "        text-align: right;\n",
              "    }\n",
              "</style>\n",
              "<table border=\"1\" class=\"dataframe\">\n",
              "  <thead>\n",
              "    <tr style=\"text-align: right;\">\n",
              "      <th></th>\n",
              "      <th>userId</th>\n",
              "      <th>prediction</th>\n",
              "    </tr>\n",
              "  </thead>\n",
              "  <tbody>\n",
              "    <tr>\n",
              "      <th>0</th>\n",
              "      <td>250</td>\n",
              "      <td>3.941523</td>\n",
              "    </tr>\n",
              "  </tbody>\n",
              "</table>\n",
              "</div>\n",
              "    <div class=\"colab-df-buttons\">\n",
              "\n",
              "  <div class=\"colab-df-container\">\n",
              "    <button class=\"colab-df-convert\" onclick=\"convertToInteractive('df-0301ab55-a754-4a31-9a2a-2ce1e2b7ea15')\"\n",
              "            title=\"Convert this dataframe to an interactive table.\"\n",
              "            style=\"display:none;\">\n",
              "\n",
              "  <svg xmlns=\"http://www.w3.org/2000/svg\" height=\"24px\" viewBox=\"0 -960 960 960\">\n",
              "    <path d=\"M120-120v-720h720v720H120Zm60-500h600v-160H180v160Zm220 220h160v-160H400v160Zm0 220h160v-160H400v160ZM180-400h160v-160H180v160Zm440 0h160v-160H620v160ZM180-180h160v-160H180v160Zm440 0h160v-160H620v160Z\"/>\n",
              "  </svg>\n",
              "    </button>\n",
              "\n",
              "  <style>\n",
              "    .colab-df-container {\n",
              "      display:flex;\n",
              "      gap: 12px;\n",
              "    }\n",
              "\n",
              "    .colab-df-convert {\n",
              "      background-color: #E8F0FE;\n",
              "      border: none;\n",
              "      border-radius: 50%;\n",
              "      cursor: pointer;\n",
              "      display: none;\n",
              "      fill: #1967D2;\n",
              "      height: 32px;\n",
              "      padding: 0 0 0 0;\n",
              "      width: 32px;\n",
              "    }\n",
              "\n",
              "    .colab-df-convert:hover {\n",
              "      background-color: #E2EBFA;\n",
              "      box-shadow: 0px 1px 2px rgba(60, 64, 67, 0.3), 0px 1px 3px 1px rgba(60, 64, 67, 0.15);\n",
              "      fill: #174EA6;\n",
              "    }\n",
              "\n",
              "    .colab-df-buttons div {\n",
              "      margin-bottom: 4px;\n",
              "    }\n",
              "\n",
              "    [theme=dark] .colab-df-convert {\n",
              "      background-color: #3B4455;\n",
              "      fill: #D2E3FC;\n",
              "    }\n",
              "\n",
              "    [theme=dark] .colab-df-convert:hover {\n",
              "      background-color: #434B5C;\n",
              "      box-shadow: 0px 1px 3px 1px rgba(0, 0, 0, 0.15);\n",
              "      filter: drop-shadow(0px 1px 2px rgba(0, 0, 0, 0.3));\n",
              "      fill: #FFFFFF;\n",
              "    }\n",
              "  </style>\n",
              "\n",
              "    <script>\n",
              "      const buttonEl =\n",
              "        document.querySelector('#df-0301ab55-a754-4a31-9a2a-2ce1e2b7ea15 button.colab-df-convert');\n",
              "      buttonEl.style.display =\n",
              "        google.colab.kernel.accessAllowed ? 'block' : 'none';\n",
              "\n",
              "      async function convertToInteractive(key) {\n",
              "        const element = document.querySelector('#df-0301ab55-a754-4a31-9a2a-2ce1e2b7ea15');\n",
              "        const dataTable =\n",
              "          await google.colab.kernel.invokeFunction('convertToInteractive',\n",
              "                                                    [key], {});\n",
              "        if (!dataTable) return;\n",
              "\n",
              "        const docLinkHtml = 'Like what you see? Visit the ' +\n",
              "          '<a target=\"_blank\" href=https://colab.research.google.com/notebooks/data_table.ipynb>data table notebook</a>'\n",
              "          + ' to learn more about interactive tables.';\n",
              "        element.innerHTML = '';\n",
              "        dataTable['output_type'] = 'display_data';\n",
              "        await google.colab.output.renderOutput(dataTable, element);\n",
              "        const docLink = document.createElement('div');\n",
              "        docLink.innerHTML = docLinkHtml;\n",
              "        element.appendChild(docLink);\n",
              "      }\n",
              "    </script>\n",
              "  </div>\n",
              "\n",
              "\n",
              "    </div>\n",
              "  </div>\n"
            ]
          },
          "metadata": {},
          "execution_count": 92
        }
      ],
      "source": [
        "# prompt: calculate mean absolute error for prediction in recommendations for each user\n",
        "\n",
        "user_mae = recommendations.toPandas().groupby('userId').agg({'prediction': 'mean'}).reset_index()\n",
        "user_mae.rename(columns={'mean(prediction)': 'mae'}, inplace=True)\n",
        "user_mae.head()"
      ]
    },
    {
      "cell_type": "code",
      "execution_count": null,
      "metadata": {
        "colab": {
          "base_uri": "https://localhost:8080/"
        },
        "id": "APAccqz4jWwV",
        "outputId": "2d800970-49b6-4650-ede2-2a15c75277c6"
      },
      "outputs": [
        {
          "output_type": "stream",
          "name": "stdout",
          "text": [
            "The root mean squared error for our model is:  246.0654484141157\n"
          ]
        }
      ],
      "source": [
        "1# prompt: calculate mse for predictions in recommendations\n",
        "\n",
        "evaluator = RegressionEvaluator(metricName='rmse', labelCol='userId', predictionCol='prediction')\n",
        "print('The root mean squared error for our model is: ', evaluator.evaluate(recommendations.dropna()))\n"
      ]
    },
    {
      "cell_type": "code",
      "execution_count": null,
      "metadata": {
        "colab": {
          "base_uri": "https://localhost:8080/"
        },
        "id": "Xd9ZTMoysi1H",
        "outputId": "4cad98d4-2969-44e0-d52e-ad5e46848990"
      },
      "outputs": [
        {
          "output_type": "stream",
          "name": "stdout",
          "text": [
            "The MSE for our model is: 98426.18% of the reference MSE.\n"
          ]
        }
      ],
      "source": [
        "from pyspark.ml.evaluation import RegressionEvaluator\n",
        "\n",
        "# Assuming 'recommendations' is your DataFrame with predictions\n",
        "evaluator = RegressionEvaluator(metricName='rmse', labelCol='userId', predictionCol='prediction')\n",
        "mse = evaluator.evaluate(recommendations.dropna())\n",
        "\n",
        "# Assuming you have a reference value 'reference_mse' to compare against\n",
        "reference_mse = 0.25  # Replace this with your reference MSE value\n",
        "\n",
        "# Calculate the percentage of MSE relative to the reference value\n",
        "mse_percentage = (mse / reference_mse) * 100\n",
        "\n",
        "print('The MSE for our model is: {:.2f}% of the reference MSE.'.format(mse_percentage))\n"
      ]
    },
    {
      "cell_type": "code",
      "execution_count": null,
      "metadata": {
        "colab": {
          "base_uri": "https://localhost:8080/"
        },
        "id": "ZZPRMG2lqExt",
        "outputId": "5ce30695-edd2-44ad-d243-40663d580989"
      },
      "outputs": [
        {
          "output_type": "stream",
          "name": "stdout",
          "text": [
            "The root mean squared error for our model is:  246.05847671031952\n"
          ]
        }
      ],
      "source": [
        "1# prompt: calculate mse for predictions in recommendations\n",
        "\n",
        "evaluator = RegressionEvaluator(metricName='mae', labelCol='userId', predictionCol='prediction')\n",
        "print('The root mean squared error for our model is: ', evaluator.evaluate(recommendations.dropna()))\n"
      ]
    }
  ],
  "metadata": {
    "accelerator": "TPU",
    "colab": {
      "provenance": []
    },
    "kernelspec": {
      "display_name": "Python 3",
      "name": "python3"
    },
    "language_info": {
      "codemirror_mode": {
        "name": "ipython",
        "version": 3
      },
      "file_extension": ".py",
      "mimetype": "text/x-python",
      "name": "python",
      "nbconvert_exporter": "python",
      "pygments_lexer": "ipython3",
      "version": "3.11.4"
    }
  },
  "nbformat": 4,
  "nbformat_minor": 0
}